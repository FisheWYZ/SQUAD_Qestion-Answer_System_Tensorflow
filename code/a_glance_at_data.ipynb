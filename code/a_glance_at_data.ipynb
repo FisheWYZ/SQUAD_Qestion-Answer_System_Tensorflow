{
 "cells": [
  {
   "cell_type": "code",
   "execution_count": 1,
   "metadata": {
    "collapsed": true
   },
   "outputs": [],
   "source": [
    "__depends__ = {\n",
    "    'train_answer': '../data/train.answer', \n",
    "    'train_context': '../data/train.context', \n",
    "    'train_question': '../data/train.question', \n",
    "    'train_span': '../data/train.span'\n",
    "}"
   ]
  },
  {
   "cell_type": "code",
   "execution_count": 2,
   "metadata": {
    "collapsed": true
   },
   "outputs": [],
   "source": [
    "%matplotlib inline\n",
    "import matplotlib.pyplot as plt\n",
    "\n",
    "import numpy as np\n",
    "import pandas as pd"
   ]
  },
  {
   "cell_type": "markdown",
   "metadata": {},
   "source": [
    "## Context Galance"
   ]
  },
  {
   "cell_type": "code",
   "execution_count": 3,
   "metadata": {
    "scrolled": false
   },
   "outputs": [
    {
     "name": "stdout",
     "output_type": "stream",
     "text": [
      "num of context: 86326\n"
     ]
    }
   ],
   "source": [
    "with open(__depends__['train_context']) as f:\n",
    "    context_lengths = []\n",
    "    for step, line in enumerate(f):\n",
    "        p = line.replace('\\n', '').split(' ')\n",
    "        context_lengths.append(len(p))\n",
    "\n",
    "print('num of context: %d' % (len(context_lengths)))"
   ]
  },
  {
   "cell_type": "code",
   "execution_count": 4,
   "metadata": {},
   "outputs": [
    {
     "data": {
      "image/png": "[encoded data removed]",
      "text/plain": [
       "<matplotlib.figure.Figure at 0x7fb1148b67b8>"
      ]
     },
     "metadata": {},
     "output_type": "display_data"
    }
   ],
   "source": [
    "n, bins, patches = plt.hist(context_lengths)\n",
    "\n",
    "plt.title('Train Context Length')\n",
    "plt.xlabel('Context_length')\n",
    "plt.ylabel('Frequency')\n",
    "plt.show()"
   ]
  },
  {
   "cell_type": "code",
   "execution_count": 5,
   "metadata": {},
   "outputs": [
    {
     "data": {
      "text/plain": [
       "count    86326.000000\n",
       "mean       137.905359\n",
       "std         56.889364\n",
       "min         22.000000\n",
       "25%        102.000000\n",
       "50%        127.000000\n",
       "75%        164.000000\n",
       "max        766.000000\n",
       "dtype: float64"
      ]
     },
     "execution_count": 5,
     "metadata": {},
     "output_type": "execute_result"
    }
   ],
   "source": [
    "pd.Series(context_lengths).describe()"
   ]
  },
  {
   "cell_type": "markdown",
   "metadata": {},
   "source": [
    "## Question Galance"
   ]
  },
  {
   "cell_type": "code",
   "execution_count": 6,
   "metadata": {
    "scrolled": false
   },
   "outputs": [
    {
     "name": "stdout",
     "output_type": "stream",
     "text": [
      "num of question: 86326\n"
     ]
    }
   ],
   "source": [
    "with open(__depends__['train_question']) as f:\n",
    "    question_lengths = []\n",
    "    for step, line in enumerate(f):\n",
    "        p = line.replace('\\n', '').split(' ')\n",
    "        question_lengths.append(len(p))\n",
    "\n",
    "print('num of question: %d' % (len(question_lengths)))"
   ]
  },
  {
   "cell_type": "code",
   "execution_count": 7,
   "metadata": {},
   "outputs": [
    {
     "data": {
      "image/png": "[encoded data removed]",
      "text/plain": [
       "<matplotlib.figure.Figure at 0x7fb1148cc240>"
      ]
     },
     "metadata": {},
     "output_type": "display_data"
    }
   ],
   "source": [
    "n, bins, patches = plt.hist(question_lengths)\n",
    "\n",
    "plt.title('Train Question Length')\n",
    "plt.xlabel('Question_length')\n",
    "plt.ylabel('Frequency')\n",
    "plt.show()"
   ]
  },
  {
   "cell_type": "code",
   "execution_count": 8,
   "metadata": {},
   "outputs": [
    {
     "data": {
      "text/plain": [
       "count    86326.000000\n",
       "mean        11.290237\n",
       "std          3.719476\n",
       "min          1.000000\n",
       "25%          9.000000\n",
       "50%         11.000000\n",
       "75%         13.000000\n",
       "max         60.000000\n",
       "dtype: float64"
      ]
     },
     "execution_count": 8,
     "metadata": {},
     "output_type": "execute_result"
    }
   ],
   "source": [
    "pd.Series(question_lengths).describe()"
   ]
  },
  {
   "cell_type": "markdown",
   "metadata": {},
   "source": [
    "## Answer Galance"
   ]
  },
  {
   "cell_type": "code",
   "execution_count": 9,
   "metadata": {
    "scrolled": false
   },
   "outputs": [
    {
     "name": "stdout",
     "output_type": "stream",
     "text": [
      "num of answer: 86326\n"
     ]
    }
   ],
   "source": [
    "with open(__depends__['train_answer']) as f:\n",
    "    answer_lengths = []\n",
    "    for step, line in enumerate(f):\n",
    "        p = line.replace('\\n', '').split(' ')\n",
    "        answer_lengths.append(len(p))\n",
    "\n",
    "print('num of answer: %d' % (len(answer_lengths)))"
   ]
  },
  {
   "cell_type": "code",
   "execution_count": 10,
   "metadata": {},
   "outputs": [
    {
     "data": {
      "image/png": "[encoded data removed]",
      "text/plain": [
       "<matplotlib.figure.Figure at 0x7fb10c72a1d0>"
      ]
     },
     "metadata": {},
     "output_type": "display_data"
    }
   ],
   "source": [
    "n, bins, patches = plt.hist(answer_lengths)\n",
    "\n",
    "plt.title('Train Answer Length')\n",
    "plt.xlabel('Answer_length')\n",
    "plt.ylabel('Frequency')\n",
    "plt.show()"
   ]
  },
  {
   "cell_type": "code",
   "execution_count": 11,
   "metadata": {},
   "outputs": [
    {
     "data": {
      "text/plain": [
       "count    86326.000000\n",
       "mean         3.382851\n",
       "std          3.781420\n",
       "min          1.000000\n",
       "25%          1.000000\n",
       "50%          2.000000\n",
       "75%          4.000000\n",
       "max         46.000000\n",
       "dtype: float64"
      ]
     },
     "execution_count": 11,
     "metadata": {},
     "output_type": "execute_result"
    }
   ],
   "source": [
    "pd.Series(answer_lengths).describe()"
   ]
  },
  {
   "cell_type": "markdown",
   "metadata": {},
   "source": [
    "## Span Galance"
   ]
  },
  {
   "cell_type": "code",
   "execution_count": 12,
   "metadata": {},
   "outputs": [
    {
     "name": "stdout",
     "output_type": "stream",
     "text": [
      "num of span: 86326\n"
     ]
    }
   ],
   "source": [
    "with open(__depends__['train_span']) as f:\n",
    "    span_starts, span_ends = [], []\n",
    "    for step, line in enumerate(f):\n",
    "        p = line.replace('\\n', '').split(' ')\n",
    "        span_starts.append(int(p[0]))\n",
    "        span_ends.append(int(p[1]))\n",
    "\n",
    "print('num of span: %d' % (len(span_starts)))"
   ]
  },
  {
   "cell_type": "code",
   "execution_count": 13,
   "metadata": {},
   "outputs": [],
   "source": [
    "span_starts_pos = np.array(span_starts) / np.array(context_lengths)\n",
    "span_ends_pos = np.array(span_ends) / np.array(context_lengths)"
   ]
  },
  {
   "cell_type": "code",
   "execution_count": 14,
   "metadata": {},
   "outputs": [
    {
     "data": {
      "image/png": "[encoded data removed]",
      "text/plain": [
       "<matplotlib.figure.Figure at 0x7fb10c72a0b8>"
      ]
     },
     "metadata": {},
     "output_type": "display_data"
    }
   ],
   "source": [
    "n, bins, patches = plt.hist(span_starts_pos)\n",
    "\n",
    "plt.title('Train Span Start Position')\n",
    "plt.xlabel('Span_position')\n",
    "plt.ylabel('Frequency')\n",
    "plt.show()"
   ]
  },
  {
   "cell_type": "code",
   "execution_count": 15,
   "metadata": {},
   "outputs": [
    {
     "data": {
      "image/png": "[encoded data removed]",
      "text/plain": [
       "<matplotlib.figure.Figure at 0x7fb1148b6f98>"
      ]
     },
     "metadata": {},
     "output_type": "display_data"
    }
   ],
   "source": [
    "n, bins, patches = plt.hist(span_ends_pos)\n",
    "\n",
    "plt.title('Train Span End Position')\n",
    "plt.xlabel('Span_position')\n",
    "plt.ylabel('Frequency')\n",
    "plt.show()"
   ]
  },
  {
   "cell_type": "code",
   "execution_count": null,
   "metadata": {
    "collapsed": true
   },
   "outputs": [],
   "source": []
  }
 ],
 "metadata": {
  "kernelspec": {
   "display_name": "Python 3",
   "language": "python",
   "name": "python3"
  },
  "language_info": {
   "codemirror_mode": {
    "name": "ipython",
    "version": 3
   },
   "file_extension": ".py",
   "mimetype": "text/x-python",
   "name": "python",
   "nbconvert_exporter": "python",
   "pygments_lexer": "ipython3",
   "version": "3.6.3"
  }
 },
 "nbformat": 4,
 "nbformat_minor": 2
}
