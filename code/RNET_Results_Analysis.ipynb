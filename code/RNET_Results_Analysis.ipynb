{
 "cells": [
  {
   "cell_type": "code",
   "execution_count": 1,
   "metadata": {
    "collapsed": true
   },
   "outputs": [],
   "source": [
    "%matplotlib inline\n",
    "import matplotlib.pyplot as plt\n",
    "import seaborn as sns\n",
    "\n",
    "import pandas as pd\n",
    "import numpy as np\n",
    "\n",
    "from collections import Counter\n",
    "import string\n",
    "import re\n",
    "import argparse\n",
    "import json\n",
    "import sys"
   ]
  },
  {
   "cell_type": "code",
   "execution_count": 2,
   "metadata": {
    "collapsed": true
   },
   "outputs": [],
   "source": [
    "def normalize_answer(s):\n",
    "    \"\"\"Lower text and remove punctuation, articles and extra whitespace.\"\"\"\n",
    "    def remove_articles(text):\n",
    "        return re.sub(r'\\b(a|an|the)\\b', ' ', text)\n",
    "\n",
    "    def white_space_fix(text):\n",
    "        return ' '.join(text.split())\n",
    "\n",
    "    def remove_punc(text):\n",
    "        exclude = set(string.punctuation)\n",
    "        return ''.join(ch for ch in text if ch not in exclude)\n",
    "\n",
    "    def lower(text):\n",
    "        return text.lower()\n",
    "\n",
    "    return white_space_fix(remove_articles(remove_punc(lower(s))))\n",
    "\n",
    "\n",
    "def f1_score(prediction, ground_truth):\n",
    "    prediction_tokens = normalize_answer(prediction).split()\n",
    "    ground_truth_tokens = normalize_answer(ground_truth).split()\n",
    "    common = Counter(prediction_tokens) & Counter(ground_truth_tokens)\n",
    "    num_same = sum(common.values())\n",
    "    if num_same == 0:\n",
    "        return 0\n",
    "    precision = 1.0 * num_same / len(prediction_tokens)\n",
    "    recall = 1.0 * num_same / len(ground_truth_tokens)\n",
    "    f1 = (2 * precision * recall) / (precision + recall)\n",
    "    return f1\n",
    "\n",
    "\n",
    "def exact_match_score(prediction, ground_truth):\n",
    "    return (normalize_answer(prediction) == normalize_answer(ground_truth))\n",
    "\n",
    "\n",
    "def metric_max_over_ground_truths(metric_fn, prediction, ground_truths):\n",
    "    scores_for_ground_truths = []\n",
    "    for ground_truth in ground_truths:\n",
    "        score = metric_fn(prediction, ground_truth)\n",
    "        scores_for_ground_truths.append(score)\n",
    "    return max(scores_for_ground_truths)"
   ]
  },
  {
   "cell_type": "code",
   "execution_count": 3,
   "metadata": {
    "collapsed": true
   },
   "outputs": [],
   "source": [
    "def identify_question_type(question):\n",
    "    if 'what' in question:\n",
    "        return 'what'\n",
    "    elif 'who' in question:\n",
    "        return 'who'\n",
    "    elif 'how' in question:\n",
    "        return 'how'\n",
    "    elif 'when' in question:\n",
    "        return 'when'\n",
    "    elif 'which' in question:\n",
    "        return 'which'\n",
    "    elif 'where' in question:\n",
    "        return 'where'\n",
    "    elif 'why' in question:\n",
    "        return 'why'\n",
    "    else:\n",
    "        return 'other'"
   ]
  },
  {
   "cell_type": "code",
   "execution_count": 4,
   "metadata": {
    "collapsed": true
   },
   "outputs": [],
   "source": [
    "with open('../predictions.json') as f:\n",
    "    predictions = json.load(f)\n",
    "    \n",
    "with open('../data/dev-v1.1.json') as f:\n",
    "    dataset_json = json.load(f)\n",
    "    dataset = dataset_json['data']"
   ]
  },
  {
   "cell_type": "code",
   "execution_count": 5,
   "metadata": {
    "collapsed": true
   },
   "outputs": [],
   "source": [
    "question_type_list = []\n",
    "context_len_list = []\n",
    "query_len_list = []\n",
    "avg_answer_len_list = []\n",
    "tmp_exact_match_list = []\n",
    "tmp_f1_list = []\n",
    "\n",
    "err_context = []\n",
    "err_question = []\n",
    "err_ground_truth = []\n",
    "err_prediction = []\n",
    "err_em = []\n",
    "\n",
    "\n",
    "f1 = exact_match = total = 0\n",
    "for article in dataset:\n",
    "    for paragraph in article['paragraphs']:\n",
    "        for qa in paragraph['qas']:\n",
    "            total += 1\n",
    "            if qa['id'] not in predictions:\n",
    "                message = 'Unanswered question ' + qa['id'] + \\\n",
    "                          ' will receive score 0.'\n",
    "                print(message, file=sys.stderr)\n",
    "                continue\n",
    "            ground_truths = list(map(lambda x: x['text'], qa['answers']))\n",
    "            prediction = predictions[qa['id']]\n",
    "            question = qa['question']\n",
    "            \n",
    "            question_type = identify_question_type(normalize_answer(question))\n",
    "            context_len = len(normalize_answer(paragraph['context']).split())\n",
    "            query_len = len(normalize_answer(qa['question']).split())\n",
    "            avg_answer_len = sum([len(normalize_answer(item).split()) for item in ground_truths]) / len(ground_truths)\n",
    "            \n",
    "            tmp_exact_match = metric_max_over_ground_truths(\n",
    "                exact_match_score, prediction, ground_truths)\n",
    "            tmp_f1 = metric_max_over_ground_truths(\n",
    "                f1_score, prediction, ground_truths)\n",
    "            \n",
    "            question_type_list.append(question_type)\n",
    "            context_len_list.append(context_len)\n",
    "            query_len_list.append(query_len)\n",
    "            avg_answer_len_list.append(avg_answer_len)\n",
    "            tmp_exact_match_list.append(tmp_exact_match)\n",
    "            tmp_f1_list.append(tmp_f1)\n",
    "            \n",
    "            err_context.append(paragraph)\n",
    "            err_question.append(question)\n",
    "            err_ground_truth.append(ground_truths)\n",
    "            err_prediction.append(prediction)\n",
    "            err_em.append(tmp_exact_match)\n",
    "            \n",
    "            exact_match += metric_max_over_ground_truths(\n",
    "                exact_match_score, prediction, ground_truths)\n",
    "            f1 += metric_max_over_ground_truths(\n",
    "                f1_score, prediction, ground_truths)\n",
    "\n",
    "exact_match = 100.0 * exact_match / total\n",
    "f1 = 100.0 * f1 / total"
   ]
  },
  {
   "cell_type": "code",
   "execution_count": 6,
   "metadata": {},
   "outputs": [
    {
     "data": {
      "text/plain": [
       "['sthène', 'sthène', 'sthène', 'sthène', 'sthène']"
      ]
     },
     "execution_count": 6,
     "metadata": {},
     "output_type": "execute_result"
    }
   ],
   "source": [
    "ground_truths"
   ]
  },
  {
   "cell_type": "code",
   "execution_count": 7,
   "metadata": {},
   "outputs": [
    {
     "data": {
      "text/plain": [
       "'the metric slug'"
      ]
     },
     "execution_count": 7,
     "metadata": {},
     "output_type": "execute_result"
    }
   ],
   "source": [
    "prediction"
   ]
  },
  {
   "cell_type": "code",
   "execution_count": 8,
   "metadata": {
    "scrolled": true
   },
   "outputs": [
    {
     "data": {
      "text/plain": [
       "'What is the seldom used force unit equal to one thousand newtons?'"
      ]
     },
     "execution_count": 8,
     "metadata": {},
     "output_type": "execute_result"
    }
   ],
   "source": [
    "question"
   ]
  },
  {
   "cell_type": "code",
   "execution_count": 9,
   "metadata": {},
   "outputs": [
    {
     "data": {
      "text/plain": [
       "'what'"
      ]
     },
     "execution_count": 9,
     "metadata": {},
     "output_type": "execute_result"
    }
   ],
   "source": [
    "question_type"
   ]
  },
  {
   "cell_type": "code",
   "execution_count": 10,
   "metadata": {},
   "outputs": [
    {
     "data": {
      "text/plain": [
       "(10570, 10570, 10570, 10570)"
      ]
     },
     "execution_count": 10,
     "metadata": {},
     "output_type": "execute_result"
    }
   ],
   "source": [
    "len(question_type_list), len(context_len_list), len(query_len_list), len(avg_answer_len_list)"
   ]
  },
  {
   "cell_type": "code",
   "execution_count": 11,
   "metadata": {
    "collapsed": true
   },
   "outputs": [],
   "source": [
    "df = pd.DataFrame({'question_type': question_type_list, 'context_len': context_len_list, \n",
    "                  'query_len': query_len_list, 'avg_answer_len': avg_answer_len_list, \n",
    "                  'exact_match': tmp_exact_match_list, 'f1': tmp_f1_list})"
   ]
  },
  {
   "cell_type": "code",
   "execution_count": 12,
   "metadata": {},
   "outputs": [
    {
     "data": {
      "text/html": [
       "<div>\n",
       "<table border=\"1\" class=\"dataframe\">\n",
       "  <thead>\n",
       "    <tr style=\"text-align: right;\">\n",
       "      <th></th>\n",
       "      <th>avg_answer_len</th>\n",
       "      <th>context_len</th>\n",
       "      <th>exact_match</th>\n",
       "      <th>f1</th>\n",
       "      <th>query_len</th>\n",
       "      <th>question_type</th>\n",
       "    </tr>\n",
       "  </thead>\n",
       "  <tbody>\n",
       "    <tr>\n",
       "      <th>0</th>\n",
       "      <td>2.000000</td>\n",
       "      <td>109</td>\n",
       "      <td>False</td>\n",
       "      <td>0.0</td>\n",
       "      <td>9</td>\n",
       "      <td>which</td>\n",
       "    </tr>\n",
       "    <tr>\n",
       "      <th>1</th>\n",
       "      <td>2.000000</td>\n",
       "      <td>109</td>\n",
       "      <td>False</td>\n",
       "      <td>0.0</td>\n",
       "      <td>9</td>\n",
       "      <td>which</td>\n",
       "    </tr>\n",
       "    <tr>\n",
       "      <th>2</th>\n",
       "      <td>5.333333</td>\n",
       "      <td>109</td>\n",
       "      <td>True</td>\n",
       "      <td>1.0</td>\n",
       "      <td>7</td>\n",
       "      <td>where</td>\n",
       "    </tr>\n",
       "    <tr>\n",
       "      <th>3</th>\n",
       "      <td>2.000000</td>\n",
       "      <td>109</td>\n",
       "      <td>False</td>\n",
       "      <td>0.0</td>\n",
       "      <td>7</td>\n",
       "      <td>which</td>\n",
       "    </tr>\n",
       "    <tr>\n",
       "      <th>4</th>\n",
       "      <td>1.000000</td>\n",
       "      <td>109</td>\n",
       "      <td>False</td>\n",
       "      <td>0.0</td>\n",
       "      <td>11</td>\n",
       "      <td>what</td>\n",
       "    </tr>\n",
       "  </tbody>\n",
       "</table>\n",
       "</div>"
      ],
      "text/plain": [
       "   avg_answer_len  context_len exact_match   f1  query_len question_type\n",
       "0        2.000000          109       False  0.0          9         which\n",
       "1        2.000000          109       False  0.0          9         which\n",
       "2        5.333333          109        True  1.0          7         where\n",
       "3        2.000000          109       False  0.0          7         which\n",
       "4        1.000000          109       False  0.0         11          what"
      ]
     },
     "execution_count": 12,
     "metadata": {},
     "output_type": "execute_result"
    }
   ],
   "source": [
    "df.head()"
   ]
  },
  {
   "cell_type": "code",
   "execution_count": 13,
   "metadata": {
    "collapsed": true
   },
   "outputs": [],
   "source": [
    "context_length = pd.DataFrame(df.groupby('context_len')['f1'].apply(np.mean)).reset_index().sort_values('context_len', ascending=True)"
   ]
  },
  {
   "cell_type": "code",
   "execution_count": 14,
   "metadata": {},
   "outputs": [
    {
     "data": {
      "image/png": "[encoded data removed]",
      "text/plain": [
       "<matplotlib.figure.Figure at 0x7f7a1b5b0320>"
      ]
     },
     "metadata": {},
     "output_type": "display_data"
    }
   ],
   "source": [
    "plt.plot(context_length['context_len'], context_length['f1'], 'o')\n",
    "# plt.axis([0, 700, 0, 1.1])\n",
    "plt.ylabel('MEAN OF BCN F1')\n",
    "plt.xlabel('# Tokens in Context')\n",
    "plt.title('BCN F1 arcoss context length')\n",
    "plt.show()"
   ]
  },
  {
   "cell_type": "code",
   "execution_count": 15,
   "metadata": {
    "collapsed": true
   },
   "outputs": [],
   "source": [
    "query_length = pd.DataFrame(df.groupby('query_len')['f1'].apply(np.mean)).reset_index().sort_values('query_len', ascending=True)"
   ]
  },
  {
   "cell_type": "code",
   "execution_count": 16,
   "metadata": {},
   "outputs": [
    {
     "data": {
      "image/png": "[encoded data removed]",
      "text/plain": [
       "<matplotlib.figure.Figure at 0x7f7a1b4e8668>"
      ]
     },
     "metadata": {},
     "output_type": "display_data"
    }
   ],
   "source": [
    "plt.plot(query_length['query_len'], query_length['f1'], 'o')\n",
    "# plt.axis([0, 700, 0, 1.1])\n",
    "plt.ylabel('MEAN OF BCN F1')\n",
    "plt.xlabel('# Tokens in Query')\n",
    "plt.title('BCN F1 arcoss query length')\n",
    "plt.show()"
   ]
  },
  {
   "cell_type": "code",
   "execution_count": 17,
   "metadata": {
    "collapsed": true
   },
   "outputs": [],
   "source": [
    "avg_answer_length = pd.DataFrame(df.groupby('avg_answer_len')['f1'].apply(np.mean)).reset_index().sort_values('avg_answer_len', ascending=True)"
   ]
  },
  {
   "cell_type": "code",
   "execution_count": 18,
   "metadata": {},
   "outputs": [
    {
     "data": {
      "image/png": "[encoded data removed]",
      "text/plain": [
       "<matplotlib.figure.Figure at 0x7f7a1b467d68>"
      ]
     },
     "metadata": {},
     "output_type": "display_data"
    }
   ],
   "source": [
    "plt.plot(avg_answer_length['avg_answer_len'], avg_answer_length['f1'], 'o')\n",
    "# plt.axis([0, 700, 0, 1.1])\n",
    "plt.ylabel('MEAN OF BCN F1')\n",
    "plt.xlabel('Average # Tokens in Answer')\n",
    "plt.title('BCN F1 arcoss answer length')\n",
    "plt.show()"
   ]
  },
  {
   "cell_type": "code",
   "execution_count": 19,
   "metadata": {
    "collapsed": true
   },
   "outputs": [],
   "source": [
    "performance_type = pd.DataFrame(df.groupby('question_type')['f1'].apply(np.mean)).reset_index().sort_values('question_type', ascending=False)"
   ]
  },
  {
   "cell_type": "code",
   "execution_count": 20,
   "metadata": {},
   "outputs": [
    {
     "data": {
      "text/html": [
       "<div>\n",
       "<table border=\"1\" class=\"dataframe\">\n",
       "  <thead>\n",
       "    <tr style=\"text-align: right;\">\n",
       "      <th></th>\n",
       "      <th>question_type</th>\n",
       "      <th>f1</th>\n",
       "    </tr>\n",
       "  </thead>\n",
       "  <tbody>\n",
       "    <tr>\n",
       "      <th>7</th>\n",
       "      <td>why</td>\n",
       "      <td>0.676645</td>\n",
       "    </tr>\n",
       "    <tr>\n",
       "      <th>6</th>\n",
       "      <td>who</td>\n",
       "      <td>0.767505</td>\n",
       "    </tr>\n",
       "    <tr>\n",
       "      <th>5</th>\n",
       "      <td>which</td>\n",
       "      <td>0.746973</td>\n",
       "    </tr>\n",
       "    <tr>\n",
       "      <th>4</th>\n",
       "      <td>where</td>\n",
       "      <td>0.694824</td>\n",
       "    </tr>\n",
       "    <tr>\n",
       "      <th>3</th>\n",
       "      <td>when</td>\n",
       "      <td>0.855779</td>\n",
       "    </tr>\n",
       "    <tr>\n",
       "      <th>2</th>\n",
       "      <td>what</td>\n",
       "      <td>0.712852</td>\n",
       "    </tr>\n",
       "    <tr>\n",
       "      <th>1</th>\n",
       "      <td>other</td>\n",
       "      <td>0.565937</td>\n",
       "    </tr>\n",
       "    <tr>\n",
       "      <th>0</th>\n",
       "      <td>how</td>\n",
       "      <td>0.747456</td>\n",
       "    </tr>\n",
       "  </tbody>\n",
       "</table>\n",
       "</div>"
      ],
      "text/plain": [
       "  question_type        f1\n",
       "7           why  0.676645\n",
       "6           who  0.767505\n",
       "5         which  0.746973\n",
       "4         where  0.694824\n",
       "3          when  0.855779\n",
       "2          what  0.712852\n",
       "1         other  0.565937\n",
       "0           how  0.747456"
      ]
     },
     "execution_count": 20,
     "metadata": {},
     "output_type": "execute_result"
    }
   ],
   "source": [
    "performance_type"
   ]
  },
  {
   "cell_type": "code",
   "execution_count": 21,
   "metadata": {},
   "outputs": [
    {
     "data": {
      "image/png": "[encoded data removed]",
      "text/plain": [
       "<matplotlib.figure.Figure at 0x7f7a1b48e240>"
      ]
     },
     "metadata": {},
     "output_type": "display_data"
    }
   ],
   "source": [
    "plt.bar(np.arange(8), performance_type['f1'], 0.6)\n",
    "\n",
    "plt.xlabel('Question Type')\n",
    "plt.ylabel('BCN F1')\n",
    "plt.title('BCN F1 arcoss question type')\n",
    "plt.xticks(np.arange(8), performance_type['question_type'])\n",
    "plt.yticks(np.arange(0, 1.1, 0.1))\n",
    "# plt.legend((p1[0], p2[0]), ('Men', 'Women'))\n",
    "plt.show()"
   ]
  },
  {
   "cell_type": "code",
   "execution_count": null,
   "metadata": {
    "collapsed": true
   },
   "outputs": [],
   "source": []
  },
  {
   "cell_type": "code",
   "execution_count": null,
   "metadata": {
    "collapsed": true
   },
   "outputs": [],
   "source": []
  }
 ],
 "metadata": {
  "kernelspec": {
   "display_name": "Python [default]",
   "language": "python",
   "name": "python3"
  },
  "language_info": {
   "codemirror_mode": {
    "name": "ipython",
    "version": 3
   },
   "file_extension": ".py",
   "mimetype": "text/x-python",
   "name": "python",
   "nbconvert_exporter": "python",
   "pygments_lexer": "ipython3",
   "version": "3.5.2"
  }
 },
 "nbformat": 4,
 "nbformat_minor": 2
}
